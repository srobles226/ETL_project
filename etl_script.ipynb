{
 "cells": [
  {
   "cell_type": "markdown",
   "metadata": {},
   "source": [
    "# Dependencies"
   ]
  },
  {
   "cell_type": "code",
   "execution_count": 17,
   "metadata": {},
   "outputs": [],
   "source": [
    "import pandas\n",
    "from keys import census_key\n",
    "import requests\n",
    "from sqlalchemy import create_engine"
   ]
  },
  {
   "cell_type": "markdown",
   "metadata": {},
   "source": [
    "# Extract"
   ]
  },
  {
   "cell_type": "markdown",
   "metadata": {},
   "source": [
    "Read in population data"
   ]
  },
  {
   "cell_type": "code",
   "execution_count": 18,
   "metadata": {},
   "outputs": [],
   "source": [
    "population_data = pandas.read_csv('population_data.csv')"
   ]
  },
  {
   "cell_type": "markdown",
   "metadata": {},
   "source": [
    "Read in diversity data"
   ]
  },
  {
   "cell_type": "code",
   "execution_count": 19,
   "metadata": {},
   "outputs": [],
   "source": [
    "diversity_data = pandas.read_csv('diversityindex.csv')"
   ]
  },
  {
   "cell_type": "markdown",
   "metadata": {},
   "source": [
    "# Transform"
   ]
  },
  {
   "cell_type": "markdown",
   "metadata": {},
   "source": [
    "Filter out unnecessary columns"
   ]
  },
  {
   "cell_type": "code",
   "execution_count": 20,
   "metadata": {
    "scrolled": true
   },
   "outputs": [],
   "source": [
    "new_pop_data = population_data[['GEO.display-label','respop72013']]"
   ]
  },
  {
   "cell_type": "markdown",
   "metadata": {},
   "source": [
    "Clean county names and create a new column of names"
   ]
  },
  {
   "cell_type": "code",
   "execution_count": 21,
   "metadata": {},
   "outputs": [
    {
     "name": "stderr",
     "output_type": "stream",
     "text": [
      "C:\\Users\\Jake\\Anaconda3\\lib\\site-packages\\ipykernel_launcher.py:7: SettingWithCopyWarning: \n",
      "A value is trying to be set on a copy of a slice from a DataFrame.\n",
      "Try using .loc[row_indexer,col_indexer] = value instead\n",
      "\n",
      "See the caveats in the documentation: http://pandas.pydata.org/pandas-docs/stable/indexing.html#indexing-view-versus-copy\n",
      "  import sys\n"
     ]
    }
   ],
   "source": [
    "county_list = []\n",
    "for county in new_pop_data['GEO.display-label']:\n",
    "    try:\n",
    "        county_list.append(county.split(', ')[0])\n",
    "    except:\n",
    "        county_list.append(county)\n",
    "new_pop_data['County Name'] = county_list"
   ]
  },
  {
   "cell_type": "markdown",
   "metadata": {},
   "source": [
    "Create a list that contains the state and county part of each location"
   ]
  },
  {
   "cell_type": "code",
   "execution_count": 22,
   "metadata": {},
   "outputs": [],
   "source": [
    "state_lst = []\n",
    "county_lst2 = []\n",
    "for row in diversity_data['Location']:\n",
    "    try:\n",
    "        state_lst.append(row.split(', ')[1])\n",
    "        county_lst2.append(row.split(', ')[0])\n",
    "    except:\n",
    "        state_lst.append(row)\n",
    "        county_lst2.append(row)"
   ]
  },
  {
   "cell_type": "markdown",
   "metadata": {},
   "source": [
    "Use the newly created list to add a state column to the data table"
   ]
  },
  {
   "cell_type": "code",
   "execution_count": 23,
   "metadata": {},
   "outputs": [],
   "source": [
    "diversity_data['State'] = state_lst\n",
    "diversity_data['County Name'] = county_lst2"
   ]
  },
  {
   "cell_type": "markdown",
   "metadata": {},
   "source": [
    "Filter diversity data to only include data from California"
   ]
  },
  {
   "cell_type": "code",
   "execution_count": 24,
   "metadata": {},
   "outputs": [],
   "source": [
    "ca_diversity = diversity_data.loc[diversity_data['State']=='CA']"
   ]
  },
  {
   "cell_type": "markdown",
   "metadata": {},
   "source": [
    "combine tables on the county name"
   ]
  },
  {
   "cell_type": "code",
   "execution_count": 25,
   "metadata": {},
   "outputs": [],
   "source": [
    "combined_df = pandas.merge(ca_diversity, new_pop_data, on = 'County Name', how = 'left')"
   ]
  },
  {
   "cell_type": "markdown",
   "metadata": {},
   "source": [
    "Filter out unnecessary columns"
   ]
  },
  {
   "cell_type": "code",
   "execution_count": 26,
   "metadata": {
    "scrolled": true
   },
   "outputs": [],
   "source": [
    "combined_df = combined_df[['County Name', 'Black or African American alone, percent, 2013', 'American Indian and Alaska Native alone, percent, 2013', 'Asian alone, percent, 2013','Native Hawaiian and Other Pacific Islander alone, percent,', 'Two or More Races, percent, 2013', 'Hispanic or Latino, percent, 2013', 'White alone, not Hispanic or Latino, percent, 2013', 'respop72013']]"
   ]
  },
  {
   "cell_type": "markdown",
   "metadata": {},
   "source": [
    "Rename the columns to be more useful"
   ]
  },
  {
   "cell_type": "code",
   "execution_count": 27,
   "metadata": {},
   "outputs": [],
   "source": [
    "combined_df = combined_df.rename(columns = {'Black or African American alone, percent, 2013': '% Black or African American', 'American Indian and Alaska Native alone, percent, 2013':'% Native American or Alaska Native', 'Asian alone, percent, 2013':'% Asian', 'Native Hawaiian and Other Pacific Islander alone, percent,': '% Pacific Islander', 'Two or More Races, percent, 2013': '% Two or more', 'Hispanic or Latino, percent, 2013': '% Hispanic or Latino', 'White alone, not Hispanic or Latino, percent, 2013': '% White', 'respop72013':'Population' })"
   ]
  },
  {
   "cell_type": "markdown",
   "metadata": {},
   "source": [
    "Convert population data type from string to float"
   ]
  },
  {
   "cell_type": "code",
   "execution_count": 28,
   "metadata": {},
   "outputs": [],
   "source": [
    "combined_df['Population'] = combined_df['Population'].astype(float)"
   ]
  },
  {
   "cell_type": "markdown",
   "metadata": {},
   "source": [
    "Add in new columns to convert all percentages to numbers"
   ]
  },
  {
   "cell_type": "code",
   "execution_count": 29,
   "metadata": {},
   "outputs": [],
   "source": [
    "combined_df['# Black or African American'] = round(combined_df['% Black or African American']/100*combined_df['Population'],0)\n",
    "combined_df['# Native American or Alaska Native'] = round(combined_df['% Native American or Alaska Native']/100*combined_df['Population'],0)\n",
    "combined_df['# of Asian'] = round(combined_df['% Asian']/100*combined_df['Population'], 0)\n",
    "combined_df['# of Pacific Islander'] = round(combined_df['% Pacific Islander']/100*combined_df['Population'], 0)\n",
    "combined_df['# of Two or More'] = round(combined_df['% Two or more']/100*combined_df['Population'], 0)\n",
    "combined_df['# of Hispanic or Latino'] = round(combined_df['% Hispanic or Latino']/100*combined_df['Population'], 0)\n",
    "combined_df['# of White'] = round(combined_df['% White']/100*combined_df['Population'], 0)"
   ]
  },
  {
   "cell_type": "markdown",
   "metadata": {},
   "source": [
    "Filter out unnecessary columns"
   ]
  },
  {
   "cell_type": "code",
   "execution_count": 30,
   "metadata": {},
   "outputs": [
    {
     "data": {
      "text/html": [
       "<div>\n",
       "<style scoped>\n",
       "    .dataframe tbody tr th:only-of-type {\n",
       "        vertical-align: middle;\n",
       "    }\n",
       "\n",
       "    .dataframe tbody tr th {\n",
       "        vertical-align: top;\n",
       "    }\n",
       "\n",
       "    .dataframe thead th {\n",
       "        text-align: right;\n",
       "    }\n",
       "</style>\n",
       "<table border=\"1\" class=\"dataframe\">\n",
       "  <thead>\n",
       "    <tr style=\"text-align: right;\">\n",
       "      <th></th>\n",
       "      <th>County Name</th>\n",
       "      <th># Black or African American</th>\n",
       "      <th># Native American or Alaska Native</th>\n",
       "      <th># of Asian</th>\n",
       "      <th># of Pacific Islander</th>\n",
       "      <th># of Two or More</th>\n",
       "      <th># of Hispanic or Latino</th>\n",
       "      <th># of White</th>\n",
       "    </tr>\n",
       "  </thead>\n",
       "  <tbody>\n",
       "    <tr>\n",
       "      <th>0</th>\n",
       "      <td>Alameda County</td>\n",
       "      <td>195782.0</td>\n",
       "      <td>18947.0</td>\n",
       "      <td>445247.0</td>\n",
       "      <td>15789.0</td>\n",
       "      <td>82102.0</td>\n",
       "      <td>358408.0</td>\n",
       "      <td>524192.0</td>\n",
       "    </tr>\n",
       "    <tr>\n",
       "      <th>1</th>\n",
       "      <td>Solano County</td>\n",
       "      <td>63293.0</td>\n",
       "      <td>5522.0</td>\n",
       "      <td>65417.0</td>\n",
       "      <td>4248.0</td>\n",
       "      <td>28461.0</td>\n",
       "      <td>107047.0</td>\n",
       "      <td>169915.0</td>\n",
       "    </tr>\n",
       "    <tr>\n",
       "      <th>2</th>\n",
       "      <td>Santa Clara County</td>\n",
       "      <td>53999.0</td>\n",
       "      <td>26069.0</td>\n",
       "      <td>634956.0</td>\n",
       "      <td>9310.0</td>\n",
       "      <td>74482.0</td>\n",
       "      <td>499027.0</td>\n",
       "      <td>631232.0</td>\n",
       "    </tr>\n",
       "    <tr>\n",
       "      <th>3</th>\n",
       "      <td>San Mateo County</td>\n",
       "      <td>22421.0</td>\n",
       "      <td>6726.0</td>\n",
       "      <td>201043.0</td>\n",
       "      <td>11958.0</td>\n",
       "      <td>32884.0</td>\n",
       "      <td>189833.0</td>\n",
       "      <td>307170.0</td>\n",
       "    </tr>\n",
       "    <tr>\n",
       "      <th>4</th>\n",
       "      <td>Sacramento County</td>\n",
       "      <td>157910.0</td>\n",
       "      <td>23394.0</td>\n",
       "      <td>225168.0</td>\n",
       "      <td>17546.0</td>\n",
       "      <td>86266.0</td>\n",
       "      <td>326055.0</td>\n",
       "      <td>691588.0</td>\n",
       "    </tr>\n",
       "  </tbody>\n",
       "</table>\n",
       "</div>"
      ],
      "text/plain": [
       "          County Name  # Black or African American  \\\n",
       "0      Alameda County                     195782.0   \n",
       "1       Solano County                      63293.0   \n",
       "2  Santa Clara County                      53999.0   \n",
       "3    San Mateo County                      22421.0   \n",
       "4   Sacramento County                     157910.0   \n",
       "\n",
       "   # Native American or Alaska Native  # of Asian  # of Pacific Islander  \\\n",
       "0                             18947.0    445247.0                15789.0   \n",
       "1                              5522.0     65417.0                 4248.0   \n",
       "2                             26069.0    634956.0                 9310.0   \n",
       "3                              6726.0    201043.0                11958.0   \n",
       "4                             23394.0    225168.0                17546.0   \n",
       "\n",
       "   # of Two or More  # of Hispanic or Latino  # of White  \n",
       "0           82102.0                 358408.0    524192.0  \n",
       "1           28461.0                 107047.0    169915.0  \n",
       "2           74482.0                 499027.0    631232.0  \n",
       "3           32884.0                 189833.0    307170.0  \n",
       "4           86266.0                 326055.0    691588.0  "
      ]
     },
     "execution_count": 30,
     "metadata": {},
     "output_type": "execute_result"
    }
   ],
   "source": [
    "combined_df = combined_df[['County Name','# Black or African American', '# Native American or Alaska Native', '# of Asian', '# of Pacific Islander', '# of Two or More', '# of Hispanic or Latino', '# of White']]\n",
    "combined_df.head()"
   ]
  },
  {
   "cell_type": "markdown",
   "metadata": {},
   "source": [
    "# Load"
   ]
  },
  {
   "cell_type": "code",
   "execution_count": 31,
   "metadata": {},
   "outputs": [],
   "source": [
    "engine = create_engine('sqlite://', echo=False)"
   ]
  },
  {
   "cell_type": "code",
   "execution_count": 32,
   "metadata": {},
   "outputs": [],
   "source": [
    "combined_df.to_sql('ethnicity_data', con=engine)"
   ]
  },
  {
   "cell_type": "code",
   "execution_count": 35,
   "metadata": {},
   "outputs": [
    {
     "data": {
      "text/plain": [
       "[(0, 'Alameda County', 195782.0, 18947.0, 445247.0, 15789.0, 82102.0, 358408.0, 524192.0),\n",
       " (1, 'Solano County', 63293.0, 5522.0, 65417.0, 4248.0, 28461.0, 107047.0, 169915.0),\n",
       " (2, 'Santa Clara County', 53999.0, 26069.0, 634956.0, 9310.0, 74482.0, 499027.0, 631232.0),\n",
       " (3, 'San Mateo County', 22421.0, 6726.0, 201043.0, 11958.0, 32884.0, 189833.0, 307170.0),\n",
       " (4, 'Sacramento County', 157910.0, 23394.0, 225168.0, 17546.0, 86266.0, 326055.0, 691588.0),\n",
       " (5, 'Contra Costa County', 105044.0, 10942.0, 173979.0, 6565.0, 54710.0, 272457.0, 506617.0),\n",
       " (6, 'San Joaquin County', 57055.0, 14088.0, 110588.0, 4931.0, 35923.0, 282456.0, 243715.0),\n",
       " (7, 'San Francisco County', 50247.0, 6700.0, 288080.0, 4187.0, 34335.0, 128129.0, 348376.0),\n",
       " (8, 'Orange County', 65402.0, 34258.0, 597958.0, 12457.0, 99660.0, 1065112.0, 1326719.0),\n",
       " (9, 'Los Angeles County', 921570.0, 150256.0, 1462492.0, 40068.0, 290495.0, 4838244.0, 2724642.0),\n",
       " (10, 'San Diego County', 179830.0, 41746.0, 375716.0, 19268.0, 134873.0, 1056502.0, 1515711.0),\n",
       " (11, 'Sutter County', 2288.0, 2193.0, 15447.0, 381.0, 4005.0, 28224.0, 46340.0),\n",
       " (12, 'Yolo County', 6138.0, 3683.0, 27620.0, 1228.0, 10025.0, 64038.0, 99841.0),\n",
       " (13, 'Riverside County', 160475.0, 43558.0, 153598.0, 9170.0, 75653.0, 1075186.0, 871153.0),\n",
       " (14, 'San Bernardino County', 198395.0, 41767.0, 148274.0, 10442.0, 71005.0, 1067158.0, 655748.0),\n",
       " (15, 'Fresno County', 56361.0, 28658.0, 100304.0, 2866.0, 27703.0, 492920.0, 299955.0),\n",
       " (16, 'Stanislaus County', 16816.0, 9984.0, 30478.0, 4729.0, 19969.0, 228589.0, 236996.0),\n",
       " (17, 'Ventura County', 18472.0, 15953.0, 61292.0, 2519.0, 27707.0, 348442.0, 397140.0),\n",
       " (18, 'Kern County', 54440.0, 23331.0, 43206.0, 2592.0, 25924.0, 439839.0, 318862.0),\n",
       " (19, 'Kings County', 11171.0, 4529.0, 6491.0, 453.0, 5435.0, 79556.0, 51477.0),\n",
       " (20, 'Yuba County', 2860.0, 2200.0, 5280.0, 367.0, 4327.0, 19728.0, 41877.0),\n",
       " (21, 'Santa Barbara County', 10457.0, 9585.0, 24399.0, 871.0, 15249.0, 192142.0, 202599.0),\n",
       " (22, 'Napa County', 3227.0, 1824.0, 10805.0, 561.0, 4350.0, 46869.0, 76478.0),\n",
       " (23, 'Merced County', 11056.0, 6581.0, 21321.0, 1053.0, 7897.0, 149514.0, 79495.0),\n",
       " (24, 'Monterey County', 15438.0, 11578.0, 29589.0, 2573.0, 15867.0, 243573.0, 135509.0),\n",
       " (25, 'Madera County', 6096.0, 7010.0, 3810.0, 457.0, 3657.0, 84881.0, 55470.0),\n",
       " (26, 'Del Norte County', 1031.0, 2536.0, 1031.0, 56.0, 1310.0, 5324.0, 17588.0),\n",
       " (27, 'Glenn County', 307.0, 838.0, 810.0, 56.0, 754.0, 11036.0, 15060.0),\n",
       " (28, 'Santa Cruz County', 3772.0, 4850.0, 12932.0, 539.0, 10777.0, 88639.0, 157880.0),\n",
       " (29, 'Colusa County', 256.0, 577.0, 384.0, 128.0, 449.0, 12281.0, 7988.0),\n",
       " (30, 'San Benito County', 749.0, 1786.0, 1958.0, 230.0, 1901.0, 33350.0, 21082.0),\n",
       " (31, 'Inyo County', 166.0, 2345.0, 277.0, 18.0, 572.0, 3841.0, 11911.0),\n",
       " (32, 'Lassen County', 2734.0, 1319.0, 450.0, 193.0, 1126.0, 5854.0, 21388.0),\n",
       " (33, 'Tulare County', 9991.0, 12716.0, 18166.0, 908.0, 10899.0, 282931.0, 140330.0),\n",
       " (34, 'Sonoma County', 9405.0, 10891.0, 20296.0, 1980.0, 18316.0, 128211.0, 322261.0),\n",
       " (35, 'Alpine County', 5.0, 277.0, 10.0, 0.0, 34.0, 114.0, 770.0),\n",
       " (36, 'Mendocino County', 872.0, 5493.0, 1831.0, 174.0, 3400.0, 20490.0, 58419.0),\n",
       " (37, 'Mono County', 99.0, 394.0, 239.0, 42.0, 352.0, 3884.0, 9331.0),\n",
       " (38, 'San Luis Obispo County', 6082.0, 3870.0, 10228.0, 553.0, 9123.0, 59988.0, 193234.0),\n",
       " (39, 'Tehama County', 568.0, 2081.0, 820.0, 126.0, 2144.0, 14818.0, 44266.0),\n",
       " (40, 'Marin County', 7234.0, 2842.0, 15502.0, 775.0, 9560.0, 40563.0, 187573.0),\n",
       " (41, 'Lake County', 1277.0, 2618.0, 830.0, 192.0, 2810.0, 11750.0, 46426.0),\n",
       " (42, 'Butte County', 3998.0, 5330.0, 9772.0, 666.0, 9106.0, 33536.0, 164569.0),\n",
       " (43, 'Placer County', 6244.0, 4040.0, 24977.0, 1102.0, 14325.0, 49219.0, 274380.0),\n",
       " (44, 'Humboldt County', 1748.0, 8339.0, 3362.0, 403.0, 7128.0, 14122.0, 102484.0),\n",
       " (45, 'Siskiyou County', 657.0, 2059.0, 569.0, 131.0, 2146.0, 5081.0, 34163.0),\n",
       " (46, 'Modoc County', 101.0, 466.0, 101.0, 27.0, 311.0, 1345.0, 7098.0),\n",
       " (47, 'El Dorado County', 1636.0, 2363.0, 7088.0, 363.0, 6361.0, 22717.0, 143754.0),\n",
       " (48, 'Amador County', 767.0, 767.0, 475.0, 73.0, 1205.0, 4638.0, 29252.0),\n",
       " (49, 'Shasta County', 1790.0, 5548.0, 5011.0, 358.0, 7517.0, 16287.0, 145690.0),\n",
       " (50, 'Tuolumne County', 1131.0, 1185.0, 700.0, 108.0, 1724.0, 6034.0, 43961.0),\n",
       " (51, 'Mariposa County', 195.0, 586.0, 249.0, 36.0, 675.0, 1776.0, 14524.0),\n",
       " (52, 'Imperial County', 6180.0, 4591.0, 4238.0, 353.0, 3179.0, 144446.0, 22603.0),\n",
       " (53, 'Calaveras County', 445.0, 801.0, 668.0, 89.0, 1558.0, 4941.0, 36725.0),\n",
       " (54, 'Trinity County', 81.0, 686.0, 121.0, 27.0, 672.0, 955.0, 11162.0),\n",
       " (55, 'Plumas County', 189.0, 603.0, 189.0, 19.0, 679.0, 1565.0, 15898.0),\n",
       " (56, 'Nevada County', 491.0, 1178.0, 1375.0, 98.0, 2946.0, 8838.0, 84354.0),\n",
       " (57, 'Sierra County', 12.0, 58.0, 12.0, 3.0, 73.0, 280.0, 2633.0)]"
      ]
     },
     "execution_count": 35,
     "metadata": {},
     "output_type": "execute_result"
    }
   ],
   "source": [
    "engine.execute(\"SELECT * FROM ethnicity_data\").fetchall()"
   ]
  },
  {
   "cell_type": "code",
   "execution_count": null,
   "metadata": {},
   "outputs": [],
   "source": []
  }
 ],
 "metadata": {
  "kernelspec": {
   "display_name": "Python 3",
   "language": "python",
   "name": "python3"
  },
  "language_info": {
   "codemirror_mode": {
    "name": "ipython",
    "version": 3
   },
   "file_extension": ".py",
   "mimetype": "text/x-python",
   "name": "python",
   "nbconvert_exporter": "python",
   "pygments_lexer": "ipython3",
   "version": "3.7.3"
  }
 },
 "nbformat": 4,
 "nbformat_minor": 2
}
